{
 "cells": [
  {
   "cell_type": "code",
   "execution_count": null,
   "id": "f38b1f0d",
   "metadata": {},
   "outputs": [],
   "source": [
    "// Question 1\n",
    "\n",
    "5 // This is an Integer ('int') datatype\n",
    "    \n",
    "5.0 // This is a Floating-point('double') datatype\n",
    "    \n",
    "5 > 1 // This is Boolean('bool') datatype\n",
    "\n",
    "'5' // This is a String('string') datatype\n",
    "    \n",
    "5 * 2 // This is an Integer('int') datatype\n",
    "    \n",
    "'5' * 2 //T Invalid datatype\n",
    "    \n",
    "'5' + '2' // This is a String('string') datatype\n",
    "    \n",
    "5 / 2 // This is a Double(double) datatype\n",
    "    \n",
    "5 % 2 // This is an Integer('int') datatype\n",
    "    \n",
    "{5, 2, 1} // This  is an Array of Integers\n",
    "\n",
    "5 == 3 // This is a Boolean('bool') datatype\n",
    "    \n",
    "Pi (the number) // This is a double-percision floating-point number datatype\n"
   ]
  },
  {
   "cell_type": "code",
   "execution_count": 28,
   "id": "29fc5ead",
   "metadata": {},
   "outputs": [
    {
     "name": "stdout",
     "output_type": "stream",
     "text": [
      "String: Supercalifragilisticexpialidocious\n",
      "String Length: 34\n"
     ]
    }
   ],
   "source": [
    "// Question 2\n",
    "\n",
    "         string str = \"Supercalifragilisticexpialidocious\";\n",
    "         Console.WriteLine(\"String: \"+str);\n",
    "         Console.WriteLine(\"String Length: \"+str.Length);\n",
    "         \n",
    "\n",
    "\n"
   ]
  },
  {
   "cell_type": "code",
   "execution_count": 2,
   "id": "6b70fd7d",
   "metadata": {},
   "outputs": [
    {
     "name": "stdout",
     "output_type": "stream",
     "text": [
      "The word ice is a substring\r\n"
     ]
    }
   ],
   "source": [
    "// Question 2 \n",
    "//Part B\n",
    "\n",
    "         string str = \"Supercalifragilisticexpialidocious\";\n",
    "              if (str.Contains(\"ice\") == true) \n",
    "               {\n",
    "                 Console.WriteLine(\"The word ice is a substring\");\n",
    "               } \n",
    "              else \n",
    "               {\n",
    "                 Console.WriteLine(\"The word ice is not a substring\");\n",
    "               }"
   ]
  },
  {
   "cell_type": "code",
   "execution_count": 13,
   "id": "eb3cc74d",
   "metadata": {},
   "outputs": [
    {
     "name": "stdout",
     "output_type": "stream",
     "text": [
      "Supercalifragilisticexpialidocious\r\n"
     ]
    }
   ],
   "source": [
    "// Question 2 \n",
    "\n",
    "//Part C\n",
    " \n",
    "      static string FindLongestWord(string word1, string word2, string word3)\n",
    "        {\n",
    "            string longestWord = word1;\n",
    "\n",
    "            if (word2.Length > longestWord.Length)\n",
    "            {\n",
    "                longestWord = word2;\n",
    "            }\n",
    "            if (word3.Length > longestWord.Length)\n",
    "            {\n",
    "                longestWord = word3;\n",
    "            }\n",
    "\n",
    "            return longestWord;\n",
    "        }\n",
    "        \n",
    "        {\n",
    "            Console.WriteLine(FindLongestWord(\"Supercalifragilisticexpialidocious\", \"Honorificabilitudinitatibus\", \"Bababadalgharaghtakamminarronnkonn\"));\n",
    "        }\n",
    "\n",
    "\n"
   ]
  },
  {
   "cell_type": "code",
   "execution_count": 10,
   "id": "f53c8f45",
   "metadata": {},
   "outputs": [
    {
     "name": "stdout",
     "output_type": "stream",
     "text": [
      "The first composer in dictionary order is: Bartok\n",
      "The last composer in dictionary order is: Buxtehude\n"
     ]
    }
   ],
   "source": [
    "// Question 2\n",
    "\n",
    "//Part D\n",
    "\n",
    "string[] composers = new string[] { \"Berlioz\", \"Borodin\", \"Brian\", \"Bartok\", \"Bellini\", \"Buxtehude\", \"Bernstein\" };\n",
    "\n",
    "Array.Sort(composers);\n",
    "\n",
    "Console.WriteLine(\"The first composer in dictionary order is: \" + composers[0]);\n",
    "Console.WriteLine(\"The last composer in dictionary order is: \" + composers[composers.Length - 1]);\n"
   ]
  },
  {
   "cell_type": "code",
   "execution_count": 6,
   "id": "e504c56f",
   "metadata": {},
   "outputs": [
    {
     "name": "stdout",
     "output_type": "stream",
     "text": [
      "1.7320508075688772\r\n"
     ]
    }
   ],
   "source": [
    "// Question 3\n",
    "\n",
    "double triangleArea(double a, double b, double c)\n",
    "    {\n",
    "        double s = (a + b + c) / 2;\n",
    "        double area = Math.Sqrt(s * (s - a) * (s - b) * (s - c));\n",
    "        return area;\n",
    "    }\n",
    "{\n",
    "     Console.WriteLine(triangleArea(2,2,2)); \n",
    " }       "
   ]
  },
  {
   "cell_type": "code",
   "execution_count": 19,
   "id": "ed7aff82",
   "metadata": {},
   "outputs": [
    {
     "name": "stdout",
     "output_type": "stream",
     "text": [
      "The Even elements are: \n",
      "42 \t56 \t32 \t\n",
      "The Odd elements are: \n",
      "25 \t47 \t"
     ]
    }
   ],
   "source": [
    "// Question 4\n",
    "\n",
    "            int no=5;\n",
    "            int[] a = new int[5] { 25, 47, 42, 56, 32 };\n",
    "            int[] odd = new int[no];\n",
    "            int[] even = new int[no];\n",
    "            int i, e, o;\n",
    "      \n",
    "      for (i = 0, e = 0, o = 0; i < no; i++)\n",
    "            {\n",
    "                if ((a[i]%2)==0)\n",
    "                {\n",
    "                    even[e] = a[i];\n",
    "                    e++;\n",
    "                }\n",
    "                else\n",
    "                {\n",
    "                    odd[o]= a[i];\n",
    "                    o++;\n",
    "                }\n",
    "            }\n",
    "            Console.WriteLine(\"The Even elements are: \");\n",
    "            for(i=0;i<e;i++)\n",
    "            {\n",
    "                Console.Write($\"{even[i]} \\t\");\n",
    "            }\n",
    "            Console.WriteLine();\n",
    "            Console.WriteLine(\"The Odd elements are: \");\n",
    "            for (i = 0; i < o; i++)\n",
    "            {\n",
    "                Console.Write($\"{odd[i]} \\t\");\n",
    "            }"
   ]
  },
  {
   "cell_type": "code",
   "execution_count": 18,
   "id": "d02aa3e1",
   "metadata": {},
   "outputs": [
    {
     "name": "stdout",
     "output_type": "stream",
     "text": [
      "True\n",
      "False\n"
     ]
    }
   ],
   "source": [
    "// Question 5\n",
    "\n",
    "        static bool Inside(int x, int y, int x1, int y1, int x2, int y2)\n",
    "        {\n",
    "            return x >= x1 && x <= x2 && y >= y1 && y <= y2;\n",
    "        }\n",
    "           \n",
    "        {\n",
    "            Console.WriteLine(Inside(1, 1, 0, 0, 2, 3));  \n",
    "            Console.WriteLine(Inside(-1, -1, 0, 0, 2, 3)); \n",
    "            Console.ReadLine();\n",
    "        }\n",
    "\n",
    "       "
   ]
  },
  {
   "cell_type": "code",
   "execution_count": 16,
   "id": "cd898664",
   "metadata": {},
   "outputs": [
    {
     "name": "stdout",
     "output_type": "stream",
     "text": [
      "False\r\n"
     ]
    }
   ],
   "source": [
    "// Question 5 \n",
    "//Part B\n",
    "\n",
    "         static bool Inside(double x, double y, double x1, double y1, double x2, double y2)\n",
    "         {\n",
    "              return x >= x1 && x <= x2 && y >= y1 && y <= y2; \n",
    "         }\n",
    "         {\n",
    "            Console.WriteLine(Inside(1, 1,0.3,0.5, 1.1, 0.7) && Inside(1, 1,0.5,0.2,1.1,2));\n",
    "            Console.ReadLine();\n",
    "         }"
   ]
  }
 ],
 "metadata": {
  "kernelspec": {
   "display_name": ".NET (C#)",
   "language": "C#",
   "name": ".net-csharp"
  },
  "language_info": {
   "file_extension": ".cs",
   "mimetype": "text/x-csharp",
   "name": "C#",
   "pygments_lexer": "csharp",
   "version": "11.0"
  }
 },
 "nbformat": 4,
 "nbformat_minor": 5
}
